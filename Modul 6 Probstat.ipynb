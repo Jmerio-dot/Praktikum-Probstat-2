{
 "cells": [
  {
   "cell_type": "code",
   "execution_count": 3,
   "id": "302a64e9-1d31-4e09-b40f-ae175ee0b494",
   "metadata": {},
   "outputs": [
    {
     "name": "stdout",
     "output_type": "stream",
     "text": [
      "Interval kepercayaan 95% untuk volume rata-rata populasi kemasan oli:\n",
      "(9.646175210193167, 10.141324789806834)\n"
     ]
    }
   ],
   "source": [
    "# Agnar Raka Baskara - 064102400014\n",
    "\n",
    "import pandas as pd\n",
    "import numpy as np\n",
    "from scipy.stats import norm\n",
    "\n",
    "import numpy as np\n",
    "from scipy import stats\n",
    "\n",
    "# Mengambil data volume dari Dataframe\n",
    "df = pd.read_clipboard()\n",
    "volume = df['Volume']\n",
    "\n",
    "# Menghitung rata-rata dan standar deviasi sampel\n",
    "mean_volume = np.mean(volume)\n",
    "std_dev_volume = np.std(volume, ddof=1)  # ddof=1 untuk sample standard deviation\n",
    "\n",
    "# Menghitung jumlah data\n",
    "n = len(volume)\n",
    "\n",
    "# Menghitung interval kepercayaan 95%\n",
    "confidence_level = 0.95\n",
    "z_score = stats.norm.ppf((1 + confidence_level) / 2)\n",
    "margin_of_error = z_score * (std_dev_volume / np.sqrt(n))\n",
    "lower_bound = mean_volume - margin_of_error\n",
    "upper_bound = mean_volume + margin_of_error\n",
    "\n",
    "print(\"Interval kepercayaan 95% untuk volume rata-rata populasi kemasan oli:\")\n",
    "print(f\"({lower_bound}, {upper_bound})\")\n"
   ]
  },
  {
   "cell_type": "code",
   "execution_count": 14,
   "id": "58bda041-c1b2-4107-9d51-1fad5636172f",
   "metadata": {},
   "outputs": [
    {
     "name": "stdout",
     "output_type": "stream",
     "text": [
      "Interval kepercayaan 50% untuk volume rata-rata populasi kemasan oli:\n",
      "(9.808551159894352, 9.97894884010565)\n"
     ]
    }
   ],
   "source": [
    "# Agnar Raka Baskara - 064102400014\n",
    "\n",
    "import pandas as pd\n",
    "import numpy as np\n",
    "from scipy.stats import norm\n",
    "\n",
    "# Mengambil data volume dari Dataframe\n",
    "df = pd.read_clipboard()\n",
    "volume = df['Volume']\n",
    "\n",
    "# Menghitung rata-rata dan standar deviasi sampel\n",
    "mean_volume = np.mean(volume)\n",
    "std_dev_volume = np.std(volume, ddof=1)  # ddof=1 untuk sample standard deviation\n",
    "\n",
    "# Menghitung jumlah data\n",
    "n = len(volume)\n",
    "\n",
    "# Menghitung interval kepercayaan 50%\n",
    "confidence_level = 0.5\n",
    "z_score = stats.norm.ppf((1 + confidence_level) / 2)\n",
    "margin_of_error = z_score * (std_dev_volume / np.sqrt(n))\n",
    "lower_bound = mean_volume - margin_of_error\n",
    "upper_bound = mean_volume + margin_of_error\n",
    "\n",
    "print(\"Interval kepercayaan 50% untuk volume rata-rata populasi kemasan oli:\")\n",
    "print(f\"({lower_bound}, {upper_bound})\")\n"
   ]
  }
 ],
 "metadata": {
  "kernelspec": {
   "display_name": "Python [conda env:base] *",
   "language": "python",
   "name": "conda-base-py"
  },
  "language_info": {
   "codemirror_mode": {
    "name": "ipython",
    "version": 3
   },
   "file_extension": ".py",
   "mimetype": "text/x-python",
   "name": "python",
   "nbconvert_exporter": "python",
   "pygments_lexer": "ipython3",
   "version": "3.12.7"
  }
 },
 "nbformat": 4,
 "nbformat_minor": 5
}
