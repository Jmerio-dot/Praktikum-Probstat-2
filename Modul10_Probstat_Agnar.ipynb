{
 "cells": [
  {
   "cell_type": "code",
   "execution_count": 1,
   "id": "e6c075e5-e41c-4f92-9204-092b2b57ea78",
   "metadata": {},
   "outputs": [
    {
     "name": "stdout",
     "output_type": "stream",
     "text": [
      "Chi-Square Statistic: 0.1873409923409925\n",
      "P-value: 0.999872291854867\n",
      "Degrees of Freedom: 6\n",
      "Expected Frequencies:\n",
      "[[ 8.10810811 21.62162162 14.86486486  5.40540541]\n",
      " [10.54054054 28.10810811 19.32432432  7.02702703]\n",
      " [11.35135135 30.27027027 20.81081081  7.56756757]]\n",
      "Gagal Tolak H0: Tidak terdapat hubungan antara kecukupan tidur dan kekuatan gowes.\n",
      "Agnar Raka Baskara - -064102400014\n"
     ]
    }
   ],
   "source": [
    "import numpy as np\n",
    "from scipy.stats import chi2_contingency\n",
    "\n",
    "# Data dari tabel\n",
    "data = np.array([[8, 22, 15, 5],\n",
    "                 [10, 28, 20, 7],\n",
    "                 [12, 30, 20, 8]])\n",
    "\n",
    "# Menghitung chi-kuadrat\n",
    "chi2, p, dof, expected = chi2_contingency(data)\n",
    "\n",
    "# Menampilkan hasil\n",
    "print(f\"Chi-Square Statistic: {chi2}\")\n",
    "print(f\"P-value: {p}\")\n",
    "print(f\"Degrees of Freedom: {dof}\")\n",
    "print(\"Expected Frequencies:\")\n",
    "print(expected)\n",
    "\n",
    "# Menentukan keputusan\n",
    "alpha = 0.01\n",
    "if p < alpha:\n",
    "    print(\"Tolak H0: Terdapat hubungan antara kecukupan tidur dan kekuatan gowes.\")\n",
    "else:\n",
    "    print(\"Gagal Tolak H0: Tidak terdapat hubungan antara kecukupan tidur dan kekuatan gowes.\")\n",
    "\n",
    "print(\"Agnar Raka Baskara - -064102400014\")"
   ]
  },
  {
   "cell_type": "code",
   "execution_count": 5,
   "id": "0f5fcf38-da3e-4844-8177-7b3d7868b6fb",
   "metadata": {},
   "outputs": [
    {
     "name": "stdout",
     "output_type": "stream",
     "text": [
      "Statistik Uji Kolmogorov-Smirnov: 0.18805925481308217\n",
      "p-value: 0.5606487063640894\n",
      "Data berdistribusi normal (gagal menolak H0)\n",
      "Agnar Raka Baskara - 064102400014\n"
     ]
    }
   ],
   "source": [
    "import numpy as np\n",
    "from scipy import stats\n",
    "\n",
    "# Data sampel nilai dari 15 mahasiswa\n",
    "data = [904, 920, 973, 1001, 1002, 1002, 1012, 1016, 1039, 1086, 1140, 1146, 1168, 1233, 1255, 1348]\n",
    "\n",
    "# Melakukan Uji Kolmogorov-Smirnov\n",
    "stat, p_value = stats.kstest(data, 'norm', args=(np.mean(data), np.std(data, ddof=1)))\n",
    "\n",
    "print(\"Statistik Uji Kolmogorov-Smirnov:\", stat)\n",
    "print(\"p-value:\", p_value)\n",
    "\n",
    "# Menentukan apakah data berdistribusi normal atau tidak\n",
    "alpha = 0.05\n",
    "if p_value > alpha:\n",
    "    print(\"Data berdistribusi normal (gagal menolak H0)\")\n",
    "else:\n",
    "    print(\"Data tidak berdistribusi normal (menolak H0)\")\n",
    "print(\"Agnar Raka Baskara - 064102400014\")"
   ]
  },
  {
   "cell_type": "code",
   "execution_count": 9,
   "id": "a7095151-a063-4e0f-adb5-fd14283e03e3",
   "metadata": {},
   "outputs": [
    {
     "name": "stdout",
     "output_type": "stream",
     "text": [
      "Chi-Square Statistic: 18.366532937961512\n",
      "P-value: 0.001046273329595159\n",
      "Degrees of Freedom: 4\n",
      "Expected Frequencies:\n",
      "[[ 7.54 10.15 11.31]\n",
      " [ 9.36 12.6  14.04]\n",
      " [ 9.1  12.25 13.65]]\n",
      "Tolak H0: Terdapat hubungan antara pendapatan dan kualitas bahan makanan.\n",
      "Agnar Raka Baskara - -064102400014\n"
     ]
    }
   ],
   "source": [
    "import numpy as np\n",
    "from scipy.stats import chi2_contingency\n",
    "\n",
    "# Data dari tabel\n",
    "data = np.array([[14, 6, 9],\n",
    "                 [10, 16, 10],\n",
    "                 [2, 13, 20]])\n",
    "\n",
    "# Menghitung chi-kuadrat\n",
    "chi2, p, dof, expected = chi2_contingency(data)\n",
    "\n",
    "# Menampilkan hasil\n",
    "print(f\"Chi-Square Statistic: {chi2}\")\n",
    "print(f\"P-value: {p}\")\n",
    "print(f\"Degrees of Freedom: {dof}\")\n",
    "print(\"Expected Frequencies:\")\n",
    "print(expected)\n",
    "\n",
    "# Menentukan keputusan\n",
    "alpha = 0.05\n",
    "if p < alpha:\n",
    "    print(\"Tolak H0: Terdapat hubungan antara pendapatan dan kualitas bahan makanan.\")\n",
    "else:\n",
    "    print(\"Gagal Tolak H0: Tidak terdapat hubungan antara pendapatan dan kualitas bahan makanan.\")\n",
    "\n",
    "print(\"Agnar Raka Baskara - -064102400014\")"
   ]
  },
  {
   "cell_type": "code",
   "execution_count": 1,
   "id": "a1c69ab8-9ae6-4149-a759-ef759e3b33dd",
   "metadata": {},
   "outputs": [
    {
     "name": "stdout",
     "output_type": "stream",
     "text": [
      "Statistik Uji Kolmogorov-Smirnov: 0.18719291305040942\n",
      "p-value: 0.604384295406073\n",
      "Data berdistribusi normal (gagal menolak H0)\n",
      "Agnar Raka Baskara - 064102400014\n"
     ]
    }
   ],
   "source": [
    "import numpy as np\n",
    "from scipy import stats\n",
    "\n",
    "# Data sampel nilai dari 15 mahasiswa\n",
    "data = [8, 11, 12, 22, 24, 25, 33, 34, 34, 43, 45, 45, 67, 67, 99]\n",
    "\n",
    "# Melakukan Uji Kolmogorov-Smirnov\n",
    "stat, p_value = stats.kstest(data, 'norm', args=(np.mean(data), np.std(data, ddof=1)))\n",
    "\n",
    "print(\"Statistik Uji Kolmogorov-Smirnov:\", stat)\n",
    "print(\"p-value:\", p_value)\n",
    "\n",
    "# Menentukan apakah data berdistribusi normal atau tidak\n",
    "alpha = 0.05\n",
    "if p_value > alpha:\n",
    "    print(\"Data berdistribusi normal (gagal menolak H0)\")\n",
    "else:\n",
    "    print(\"Data tidak berdistribusi normal (menolak H0)\")\n",
    "print(\"Agnar Raka Baskara - 064102400014\")"
   ]
  },
  {
   "cell_type": "code",
   "execution_count": null,
   "id": "3b7dd63a-19dc-4113-bb64-2719840dc1ff",
   "metadata": {},
   "outputs": [],
   "source": []
  }
 ],
 "metadata": {
  "kernelspec": {
   "display_name": "Python [conda env:base] *",
   "language": "python",
   "name": "conda-base-py"
  },
  "language_info": {
   "codemirror_mode": {
    "name": "ipython",
    "version": 3
   },
   "file_extension": ".py",
   "mimetype": "text/x-python",
   "name": "python",
   "nbconvert_exporter": "python",
   "pygments_lexer": "ipython3",
   "version": "3.12.7"
  }
 },
 "nbformat": 4,
 "nbformat_minor": 5
}
