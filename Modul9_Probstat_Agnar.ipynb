{
 "cells": [
  {
   "cell_type": "code",
   "execution_count": 1,
   "id": "57dc04b0-96dd-4433-bb59-1da380d39c33",
   "metadata": {},
   "outputs": [
    {
     "name": "stdout",
     "output_type": "stream",
     "text": [
      "Peluang lolos inspeksi: 0.1319\n",
      "Ekspektasi produk lolos (200 unit): 26.39\n"
     ]
    }
   ],
   "source": [
    "#Agnar Raka Baskara - 064102400014\n",
    "from scipy.stats import norm\n",
    "#\n",
    "#\n",
    "#Peluang berat antara 490g dan 510g\n",
    "p_berat = norm.cdf(510, loc=500, scale=20) - norm.cdf(490, loc=500, scale=20)\n",
    "\n",
    "#Peluang panjang lebih dari 102cm\n",
    "p_panjang = 1 - norm.cdf(102, loc=100, scale=5)\n",
    "\n",
    "#Peluang lolos inspeksi\n",
    "p_lolos = p_berat * p_panjang\n",
    "\n",
    "#Ekspektasi jumlah produk yang lolos dari 200 unit\n",
    "ekspektasi_lolos = 200 * p_lolos\n",
    "\n",
    "print(\"Peluang lolos inspeksi:\", round(p_lolos, 4))\n",
    "print(\"Ekspektasi produk lolos (200 unit):\", round(ekspektasi_lolos, 2))"
   ]
  },
  {
   "cell_type": "code",
   "execution_count": 18,
   "id": "69ba8b7d-39f9-410d-8d21-9ac5cf9ce339",
   "metadata": {},
   "outputs": [
    {
     "data": {
      "application/vnd.jupyter.widget-view+json": {
       "model_id": "6a68aa3fa7e34afda71c9df98e8b24fa",
       "version_major": 2,
       "version_minor": 0
      },
      "text/plain": [
       "Dropdown(description='Distribusi:', options=('Normal', 'Eksponensial'), style=DescriptionStyle(description_wid…"
      ]
     },
     "metadata": {},
     "output_type": "display_data"
    },
    {
     "data": {
      "application/vnd.jupyter.widget-view+json": {
       "model_id": "a6f6fa8b152e4878a9fe4d08486f48ba",
       "version_major": 2,
       "version_minor": 0
      },
      "text/plain": [
       "Output()"
      ]
     },
     "metadata": {},
     "output_type": "display_data"
    }
   ],
   "source": [
    "# Agnar Raka Baskara - 064102400014\n",
    "%matplotlib inline\n",
    "\n",
    "from scipy.stats import norm, expon\n",
    "import matplotlib.pyplot as plt\n",
    "import numpy as np\n",
    "import ipywidgets as widgets\n",
    "from IPython.display import display, Markdown, clear_output\n",
    "\n",
    "# Inisialisasi widget\n",
    "dist_selector = widgets.Dropdown(\n",
    "    options=['Normal', 'Eksponensial'],\n",
    "    value='Normal',\n",
    "    description='Distribusi:',\n",
    "    style={'description_width': 'initial'}\n",
    ")\n",
    "\n",
    "# Widgets untuk distribusi Normal\n",
    "mu_input = widgets.FloatText(value=165.0, description='Rata-rata (μ):')\n",
    "sigma_input = widgets.FloatText(value=10.0, description='Standar deviasi (σ):')\n",
    "x_input_norm = widgets.FloatText(value=170.0, description='Nilai x:')\n",
    "q_slider_norm = widgets.FloatSlider(value=0.9, min=0, max=1.0, step=0.01, description='Prob. Kuantil:')\n",
    "\n",
    "# Widgets untuk distribusi Eksponensial\n",
    "lambda_input = widgets.FloatText(value=1/5.0, description='Lambda (1/μ):')\n",
    "x_input_exp = widgets.FloatText(value=3.0, description='Nilai x:')\n",
    "q_slider_exp = widgets.FloatSlider(value=0.9, min=0, max=1.0, step=0.01, description='Prob. Kuantil:')\n",
    "\n",
    "# Output\n",
    "output = widgets.Output()\n",
    "\n",
    "def plot_normal(mu, sigma, x, q):\n",
    "    x_vals = np.linspace(mu - 4*sigma, mu + 4*sigma, 500)\n",
    "    y_vals = norm.pdf(x_vals, loc=mu, scale=sigma)\n",
    "\n",
    "    fig, ax = plt.subplots()\n",
    "    ax.plot(x_vals, y_vals, label='PDF')\n",
    "    ax.fill_between(x_vals, y_vals, where=(x_vals <= x), color='skyblue', alpha=0.5, label=f'P(X ≤ {x})')\n",
    "    ax.axvline(norm.ppf(q, loc=mu, scale=sigma), color='red', linestyle='--', label=f'x untuk P(X ≤ x) = {q}')\n",
    "    ax.set_title('Distribusi Normal')\n",
    "    ax.legend()\n",
    "    plt.grid()\n",
    "    plt.show()\n",
    "\n",
    "def plot_expon(lam, x, q):\n",
    "    x_vals = np.linspace(0, x + 5 / lam, 500)\n",
    "    y_vals = expon.pdf(x_vals, scale=1 / lam)\n",
    "\n",
    "    fig, ax = plt.subplots()\n",
    "    ax.plot(x_vals, y_vals, label='PDF')\n",
    "    ax.fill_between(x_vals, y_vals, where=(x_vals <= x), color='lightgreen', alpha=0.5, label=f'P(X ≤ {x})')\n",
    "    ax.axvline(expon.ppf(q, scale=1 / lam), color='red', linestyle='--', label=f'x untuk P(X ≤ x) = {q}')\n",
    "    ax.set_title('Distribusi Eksponensial')\n",
    "    ax.legend()\n",
    "    plt.grid()\n",
    "    plt.show()\n",
    "\n",
    "# Fungsi update berdasarkan distribusi\n",
    "def update_ui(*args):\n",
    "    output.clear_output()\n",
    "    display(dist_selector)\n",
    "\n",
    "    with output:\n",
    "        if dist_selector.value == \"Normal\":\n",
    "            display(mu_input, sigma_input, x_input_norm, q_slider_norm)\n",
    "            mu = mu_input.value\n",
    "            sigma = sigma_input.value\n",
    "            x = x_input_norm.value\n",
    "            q = q_slider_norm.value\n",
    "\n",
    "            p = norm.cdf(x, loc=mu, scale=sigma)\n",
    "            xx = norm.ppf(q, loc=mu, scale=sigma)\n",
    "\n",
    "            display(Markdown(f\"### Distribusi Normal\"))\n",
    "            display(Markdown(f\"**P(X ≤ {x}) = {p:.4f}**\"))\n",
    "            display(Markdown(f\"**x untuk P(X ≤ x) = {q} ⇒ {xx:.2f}**\"))\n",
    "\n",
    "            plot_normal(mu, sigma, x, q)\n",
    "\n",
    "        elif dist_selector.value == \"Eksponensial\":\n",
    "            display(lambda_input, x_input_exp, q_slider_exp)\n",
    "            lam = lambda_input.value\n",
    "            x = x_input_exp.value\n",
    "            q = q_slider_exp.value\n",
    "\n",
    "            p = expon.cdf(x, scale=1 / lam)\n",
    "            xx = expon.ppf(q, scale=1 / lam)\n",
    "\n",
    "            display(Markdown(f\"### Distribusi Eksponensial\"))\n",
    "            display(Markdown(f\"**P(X ≤ {x}) = {p:.4f}**\"))\n",
    "            display(Markdown(f\"**x untuk P(X ≤ x) = {q} ⇒ {xx:.2f}**\"))\n",
    "\n",
    "            plot_expon(lam, x, q)\n",
    "\n",
    "# Observe perubahan\n",
    "dist_selector.observe(update_ui, names='value')\n",
    "mu_input.observe(update_ui, names='value')\n",
    "sigma_input.observe(update_ui, names='value')\n",
    "x_input_norm.observe(update_ui, names='value')\n",
    "q_slider_norm.observe(update_ui, names='value')\n",
    "\n",
    "lambda_input.observe(update_ui, names='value')\n",
    "x_input_exp.observe(update_ui, names='value')\n",
    "q_slider_exp.observe(update_ui, names='value')\n",
    "\n",
    "# Tampilkan antarmuka dan output\n",
    "update_ui()\n",
    "display(output)\n"
   ]
  },
  {
   "cell_type": "code",
   "execution_count": 3,
   "id": "e0f14c96-49b8-439d-baf4-f3f3f99e34c5",
   "metadata": {},
   "outputs": [
    {
     "name": "stdout",
     "output_type": "stream",
     "text": [
      "3.12.7 | packaged by Anaconda, Inc. | (main, Oct  4 2024, 13:17:27) [MSC v.1929 64 bit (AMD64)]\n"
     ]
    }
   ],
   "source": [
    "import sys\n",
    "print(sys.version)\n"
   ]
  },
  {
   "cell_type": "code",
   "execution_count": null,
   "id": "aa76c8b2-f2f1-4ac5-9d5a-accb67da4055",
   "metadata": {},
   "outputs": [],
   "source": []
  }
 ],
 "metadata": {
  "kernelspec": {
   "display_name": "Python [conda env:base] *",
   "language": "python",
   "name": "conda-base-py"
  },
  "language_info": {
   "codemirror_mode": {
    "name": "ipython",
    "version": 3
   },
   "file_extension": ".py",
   "mimetype": "text/x-python",
   "name": "python",
   "nbconvert_exporter": "python",
   "pygments_lexer": "ipython3",
   "version": "3.12.7"
  }
 },
 "nbformat": 4,
 "nbformat_minor": 5
}
